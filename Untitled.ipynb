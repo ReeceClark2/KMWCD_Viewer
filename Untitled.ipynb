{
 "cells": [
  {
   "cell_type": "code",
   "execution_count": 1,
   "metadata": {},
   "outputs": [],
   "source": [
    "import kmall\n",
    "import importlib"
   ]
  },
  {
   "cell_type": "code",
   "execution_count": 2,
   "metadata": {},
   "outputs": [],
   "source": [
    "importlib.reload(kmall)\n",
    "K = kmall.kmall(filename='/Volumes/ASV_01/EM2040TankTests_20200310/sisdata/raw/Fallback_2040_40_1/0006_20200310_160138_ShipName.kmall')"
   ]
  },
  {
   "cell_type": "code",
   "execution_count": 3,
   "metadata": {},
   "outputs": [],
   "source": [
    "K.index_file()"
   ]
  },
  {
   "cell_type": "code",
   "execution_count": 4,
   "metadata": {},
   "outputs": [
    {
     "name": "stdout",
     "output_type": "stream",
     "text": [
      "              ByteOffset  MessageSize MessageType\n",
      "Time                                             \n",
      "1.583856e+09           0         1058     b'#IIP'\n",
      "1.583856e+09        1058         1262     b'#IOP'\n",
      "1.583856e+09        2320          112     b'#SVP'\n",
      "1.583856e+09        2432           76     b'#SCL'\n",
      "1.583856e+09        2508          156     b'#SPO'\n",
      "...                  ...          ...         ...\n",
      "1.583858e+09  2598377104        51998     b'#MRZ'\n",
      "1.583858e+09  2598429102        51980     b'#MRZ'\n",
      "1.583858e+09  2598481082          154     b'#CPO'\n",
      "1.583858e+09  2598481236        51904     b'#MRZ'\n",
      "1.583858e+09  2598533140        13368     b'#SKM'\n",
      "\n",
      "[56530 rows x 3 columns]\n"
     ]
    }
   ],
   "source": [
    "print(K.Index)"
   ]
  },
  {
   "cell_type": "code",
   "execution_count": 8,
   "metadata": {},
   "outputs": [
    {
     "name": "stdout",
     "output_type": "stream",
     "text": [
      "             Count       Size:  Min Size  Max Size\n",
      "MessageType                                       \n",
      "b'#CPO'       1762      273062       154       156\n",
      "b'#IIP'          1        1058      1058      1058\n",
      "b'#IOP'          1        1262      1262      1262\n",
      "b'#MRZ'      49512  2574546168     51308     52954\n",
      "b'#SCL'       1762      133912        76        76\n",
      "b'#SKM'       1729    23317872     13368     13500\n",
      "b'#SPO'       1762      273062       154       156\n",
      "b'#SVP'          1         112       112       112\n"
     ]
    }
   ],
   "source": [
    "K.report_packet_types()"
   ]
  },
  {
   "cell_type": "code",
   "execution_count": null,
   "metadata": {},
   "outputs": [],
   "source": [
    "K.check_ping_count()"
   ]
  },
  {
   "cell_type": "code",
   "execution_count": 18,
   "metadata": {},
   "outputs": [
    {
     "name": "stdout",
     "output_type": "stream",
     "text": [
      "65535\n",
      "0\n"
     ]
    },
    {
     "data": {
      "image/png": "[encoded data removed]",
      "text/plain": [
       "<Figure size 432x288 with 1 Axes>"
      ]
     },
     "metadata": {
      "needs_background": "light"
     },
     "output_type": "display_data"
    }
   ],
   "source": [
    "import numpy as np\n",
    "MRZOffsets = [x for x, y in zip(K.msgoffset, K.msgtype) if y == \"b'#MRZ'\"]\n",
    "pingcnt = []\n",
    "rxFans = []\n",
    "rxFanIndex = []\n",
    "\n",
    "# Skip through the file capturing the ping count information:\n",
    "#  The ping count values\n",
    "#  The number of receive fans specified for each ping\n",
    "#  The receive fan index for each received MRZ record.\n",
    "#\n",
    "# Notes:    A ping can span more than 1 MRZ datagrams. This happens when\n",
    "#           1 MRZ datagram exists for each receive \"fan\"\n",
    "#           In dual swath mode, at least two receive fans are generated.\n",
    "#           The ping counter will not change for the second MRZ packet.\n",
    "\n",
    "pingcnt = np.zeros((len(MRZOffsets),1),dtype=int)\n",
    "rxFans = np.zeros((len(MRZOffsets),1), dtype = int)\n",
    "rxFanIndex = np.zeros((len(MRZOffsets),1), dtype = int)\n",
    "idx = 0\n",
    "\n",
    "K.OpenFiletoRead()\n",
    "for offset in MRZOffsets:\n",
    "    K.FID.seek(offset, 0)\n",
    "    dg = K.read_EMdgmHeader()\n",
    "    dg = K.read_EMdgmMpartition()\n",
    "    dg = K.read_EMdgmMbody()\n",
    "    pingcnt[idx] = dg['pingCnt']\n",
    "    rxFans[idx] = dg['rxFansPerPing']\n",
    "    rxFanIndex[idx] = dg['rxFanIndex']\n",
    "    idx += 1\n",
    "    #if np.mod(idx,1000)==0:\n",
    "    #    print(idx)\n",
    "    #pingcnt.append(dg['pingCnt'])\n",
    "    #rxFans.append(dg['rxFansPerPing'])\n",
    "    #rxFanIndex.append(dg['rxFanIndex'])\n",
    "\n",
    "    \n",
    "plt.plot(pingcnt,'.')\n",
    "print(np.max(pingcnt))\n",
    "print(np.min(pingcnt))\n",
    "#pingcnt = np.array(self.pingcnt)\n",
    "#rxFans = np.array(self.rxFans)\n",
    "#rxFanIndex = np.array(self.rxFanIndex)"
   ]
  },
  {
   "cell_type": "code",
   "execution_count": 15,
   "metadata": {},
   "outputs": [
    {
     "name": "stdout",
     "output_type": "stream",
     "text": [
      "1\n"
     ]
    },
    {
     "data": {
      "image/png": "[encoded data removed]",
      "text/plain": [
       "<Figure size 432x288 with 1 Axes>"
      ]
     },
     "metadata": {
      "needs_background": "light"
     },
     "output_type": "display_data"
    }
   ],
   "source": [
    "import matplotlib.pyplot as plt\n",
    "\n",
    "plt.plot(K.msgsize,'.')\n",
    "K.closeFile()\n",
    "print(np.mod(1001,10))"
   ]
  },
  {
   "cell_type": "code",
   "execution_count": 39,
   "metadata": {},
   "outputs": [
    {
     "name": "stdout",
     "output_type": "stream",
     "text": [
      "                                              File  NpingsTotal  Pings Missed  MissingMRZRecords\n",
      " /Volumes/ASV_01/EM2040TankTests_20200310/sisda...         3195             0                  0\n",
      "                                              File  NpingsTotal  Pings Missed  MissingMRZRecords\n",
      " /Volumes/ASV_01/EM2040TankTests_20200310/sisda...         2767             2                  1\n",
      "                                              File  NpingsTotal  Pings Missed  MissingMRZRecords\n",
      " /Volumes/ASV_01/EM2040TankTests_20200310/sisda...        10883             1                  0\n",
      "                                              File  NpingsTotal  Pings Missed  MissingMRZRecords\n",
      " /Volumes/ASV_01/EM2040TankTests_20200310/sisda...         2589             1                  0\n",
      "                                              File  NpingsTotal  Pings Missed  MissingMRZRecords\n",
      " /Volumes/ASV_01/EM2040TankTests_20200310/sisda...          140             0                  0\n",
      "                                              File  NpingsTotal  Pings Missed  MissingMRZRecords\n",
      " /Volumes/ASV_01/EM2040TankTests_20200310/sisda...         6380             0                  0\n",
      "                                              File  NpingsTotal  Pings Missed  MissingMRZRecords\n",
      " /Volumes/ASV_01/EM2040TankTests_20200310/sisda...        65536         16024                  0\n",
      "                                              File  NpingsTotal  Pings Missed  MissingMRZRecords\n",
      " /Volumes/ASV_01/EM2040TankTests_20200310/sisda...        14612             0                  0\n",
      "                                              File  NpingsTotal  Pings Missed  MissingMRZRecords\n",
      " /Volumes/ASV_01/EM2040TankTests_20200310/sisda...          169             1                  0\n",
      "                                              File  NpingsTotal  Pings Missed  MissingMRZRecords\n",
      " /Volumes/ASV_01/EM2040TankTests_20200310/sisda...          282             2                  0\n",
      "                                              File  NpingsTotal  Pings Missed  MissingMRZRecords\n",
      " /Volumes/ASV_01/EM2040TankTests_20200310/sisda...        11965             2                  0\n",
      "                                              File  NpingsTotal  Pings Missed  MissingMRZRecords\n",
      " /Volumes/ASV_01/EM2040TankTests_20200310/sisda...        65536         54051                  0\n",
      "                                              File  NpingsTotal  Pings Missed  MissingMRZRecords\n",
      " /Volumes/ASV_01/EM2040TankTests_20200310/sisda...        13732             1                  0\n",
      "                                              File  NpingsTotal  Pings Missed  MissingMRZRecords\n",
      " /Volumes/ASV_01/EM2040TankTests_20200310/sisda...        12822             2                  0\n",
      "                                              File  NpingsTotal  Pings Missed  MissingMRZRecords\n",
      " /Volumes/ASV_01/EM2040TankTests_20200310/sisda...        15063             1                  0\n",
      "                                              File  NpingsTotal  Pings Missed  MissingMRZRecords\n",
      " /Volumes/ASV_01/EM2040TankTests_20200310/sisda...         1491             1                  0\n",
      "                                              File  NpingsTotal  Pings Missed  MissingMRZRecords\n",
      " /Volumes/ASV_01/EM2040TankTests_20200310/sisda...            4             0                  0\n",
      "                                              File  NpingsTotal  Pings Missed  MissingMRZRecords\n",
      " /Volumes/ASV_01/EM2040TankTests_20200310/sisda...          561             0                  3\n",
      "                                              File  NpingsTotal  Pings Missed  MissingMRZRecords\n",
      " /Volumes/ASV_01/EM2040TankTests_20200310/sisda...          529             0                  9\n",
      "                                              File  NpingsTotal  Pings Missed  MissingMRZRecords\n",
      " /Volumes/ASV_01/EM2040TankTests_20200310/sisda...         5775             0                  0\n",
      "                                              File  NpingsTotal  Pings Missed  MissingMRZRecords\n",
      " /Volumes/ASV_01/EM2040TankTests_20200310/sisda...         2380             0                  1\n",
      "                                              File  NpingsTotal  Pings Missed  MissingMRZRecords\n",
      " /Volumes/ASV_01/EM2040TankTests_20200310/sisda...         2430             2                  6\n",
      "                                              File  NpingsTotal  Pings Missed  MissingMRZRecords\n",
      " /Volumes/ASV_01/EM2040TankTests_20200310/sisda...        65536         54571                  0\n",
      "                                              File  NpingsTotal  Pings Missed  MissingMRZRecords\n",
      " /Volumes/ASV_01/EM2040TankTests_20200310/sisda...         4781             1                  0\n",
      "                                              File  NpingsTotal  Pings Missed  MissingMRZRecords\n",
      " /Volumes/ASV_01/EM2040TankTests_20200310/sisda...         7888             0                  0\n",
      "                                              File  NpingsTotal  Pings Missed  MissingMRZRecords\n",
      " /Volumes/ASV_01/EM2040TankTests_20200310/sisda...         8988             0                  8\n",
      "                                              File  NpingsTotal  Pings Missed  MissingMRZRecords\n",
      " /Volumes/ASV_01/EM2040TankTests_20200310/sisda...         8072             0                  0\n",
      "                                              File  NpingsTotal  Pings Missed  MissingMRZRecords\n",
      " /Volumes/ASV_01/EM2040TankTests_20200310/sisda...         7981             0                  0\n",
      "                                              File  NpingsTotal  Pings Missed  MissingMRZRecords\n",
      " /Volumes/ASV_01/EM2040TankTests_20200310/sisda...         1818             0                  0\n",
      "                                              File  NpingsTotal  Pings Missed  MissingMRZRecords\n",
      " /Volumes/ASV_01/EM2040TankTests_20200310/sisda...         1686             0                  1\n",
      "                                              File  NpingsTotal  Pings Missed  MissingMRZRecords\n",
      " /Volumes/ASV_01/EM2040TankTests_20200310/sisda...          667             1                  0\n",
      "                                              File  NpingsTotal  Pings Missed  MissingMRZRecords\n",
      " /Volumes/ASV_01/EM2040TankTests_20200310/sisda...          931             1                  0\n",
      "                                              File  NpingsTotal  Pings Missed  MissingMRZRecords\n",
      " /Volumes/ASV_01/EM2040TankTests_20200310/sisda...          240             2                  0\n",
      "                                              File  NpingsTotal  Pings Missed  MissingMRZRecords\n",
      " /Volumes/ASV_01/EM2040TankTests_20200310/sisda...          282             0                  1\n",
      "                                              File  NpingsTotal  Pings Missed  MissingMRZRecords\n",
      " /Volumes/ASV_01/EM2040TankTests_20200310/sisda...          841             1                  0\n",
      "                                              File  NpingsTotal  Pings Missed  MissingMRZRecords\n",
      " /Volumes/ASV_01/EM2040TankTests_20200310/sisda...          583             0                  0\n",
      "                                              File  NpingsTotal  Pings Missed  MissingMRZRecords\n",
      " /Volumes/ASV_01/EM2040TankTests_20200310/sisda...          538             1                  0\n",
      "                                              File  NpingsTotal  Pings Missed  MissingMRZRecords\n",
      " /Volumes/ASV_01/EM2040TankTests_20200310/sisda...         1110             1                  0\n",
      "                                              File  NpingsTotal  Pings Missed  MissingMRZRecords\n",
      " /Volumes/ASV_01/EM2040TankTests_20200310/sisda...         2780             0                  0\n",
      "                                              File  NpingsTotal  Pings Missed  MissingMRZRecords\n",
      " /Volumes/ASV_01/EM2040TankTests_20200310/sisda...         3765             1                  0\n",
      "                                              File  NpingsTotal  Pings Missed  MissingMRZRecords\n",
      " /Volumes/ASV_01/EM2040TankTests_20200310/sisda...         5199             0                  0\n",
      "                                              File  NpingsTotal  Pings Missed  MissingMRZRecords\n",
      " /Volumes/ASV_01/EM2040TankTests_20200310/sisda...         4974             1                  0\n",
      "                                              File  NpingsTotal  Pings Missed  MissingMRZRecords\n",
      " /Volumes/ASV_01/EM2040TankTests_20200310/sisda...         5791             1                  0\n",
      "                                              File  NpingsTotal  Pings Missed  MissingMRZRecords\n",
      " /Volumes/ASV_01/EM2040TankTests_20200310/sisda...         3373             1                  0\n",
      "                                              File  NpingsTotal  Pings Missed  MissingMRZRecords\n",
      " /Volumes/ASV_01/EM2040TankTests_20200310/sisda...         8759             1                125\n"
     ]
    }
   ],
   "source": [
    "import glob\n",
    "results = []\n",
    "for f in glob.glob('/Volumes/ASV_01/EM2040TankTests_20200310/sisdata/raw/Fallback_2040_40_1/*.kmall'):    \n",
    "    K = kmall.kmall(filename=f)\n",
    "    K.index_file()\n",
    "    results.append(K.check_ping_count())\n",
    "\n",
    "    "
   ]
  },
  {
   "cell_type": "code",
   "execution_count": 41,
   "metadata": {},
   "outputs": [
    {
     "name": "stdout",
     "output_type": "stream",
     "text": [
      "                                          NpingsTotal  Pings Missed  MissingMRZRecords\n",
      "0000_20200310_153926_ShipName.kmall              3195             0                  0\n",
      "0001_20200310_154657_ShipName.kmall              2767             2                  1\n",
      "0002_20200310_154855_ShipName.kmall             10883             1                  0\n",
      "0003_20200310_155543_ShipName.kmall              2589             1                  0\n",
      "0004_20200310_155741_ShipName.kmall               140             0                  0\n",
      "0005_20200310_155746_ShipName.kmall              6380             0                  0\n",
      "0006_20200310_160138_ShipName.kmall             65536         16024                  0\n",
      "0007_20200310_171032_ShipName.kmall             14612             0                  0\n",
      "0008_20200310_171917_ShipName.kmall               169             1                  0\n",
      "0009_20200310_172511_ShipName.kmall               282             2                  0\n",
      "0010_20200310_172521_ShipName.kmall             11965             2                  0\n",
      "0011_20200310_173342_ShipName.kmall             65536         54051                  0\n",
      "0012_20200310_174203_ShipName.kmall             13732             1                  0\n",
      "0013_20200310_175501_ShipName.kmall             12822             2                  0\n",
      "0014_20200310_185702_ShipName.kmall             15063             1                  0\n",
      "0015_20200310_191336_ShipName.kmall              1491             1                  0\n",
      "0015_20200310_191336_ShipNamePCAP.kmall             4             0                  0\n",
      "0016_20200310_192559_ShipName.kmall               561             0                  3\n",
      "0016_20200310_192559_ShipName_pcap.kmall          529             0                  9\n",
      "9999.kmall                                       5775             0                  0\n",
      "0017_20200310_193851_ShipName_PCAP.kmall         2380             0                  1\n",
      "0017_20200310_193851_ShipName.kmall              2430             2                  6\n",
      "0018_20200310_195655_ShipName.kmall             65536         54571                  0\n",
      "0020_20200310_201135_ShipName.kmall              4781             1                  0\n",
      "0019_20200310_200529_ShipName.kmall              7888             0                  0\n",
      "0021_20200311_130112_ShipName.kmall              8988             0                  8\n",
      "0022_20200311_130815_ShipName.kmall              8072             0                  0\n",
      "0023_20200311_131445_ShipName.kmall              7981             0                  0\n",
      "0024_20200311_132704_ShipName.kmall              1818             0                  0\n",
      "0024_20200311_132704_ShipName_PCAP.kmall         1686             0                  1\n",
      "0025_20200311_134747_ShipName.kmall               667             1                  0\n",
      "0026_20200311_134851_ShipName.kmall               931             1                  0\n",
      "0027_20200311_135213_ShipName.kmall               240             2                  0\n",
      "0027_20200311_135213_ShipName_PCAP.kmall          282             0                  1\n",
      "0028_20200311_141950_ShipName.kmall               841             1                  0\n",
      "0029_20200311_142144_ShipName.kmall               583             0                  0\n",
      "0030_20200311_142259_ShipName.kmall               538             1                  0\n",
      "0031_20200311_144257_ShipName.kmall              1110             1                  0\n",
      "0032_20200311_150710_ShipName.kmall              2780             0                  0\n",
      "0033_20200311_151412_ShipName.kmall              3765             1                  0\n",
      "0034_20200311_152152_ShipName.kmall              5199             0                  0\n",
      "0035_20200311_152719_ShipName.kmall              4974             1                  0\n",
      "0036_20200311_153729_ShipName.kmall              5791             1                  0\n",
      "0037_20200311_154459_ShipName.kmall              3373             1                  0\n",
      "0043_20200311_174650_ShipName.kmall              8759             1                125\n"
     ]
    }
   ],
   "source": [
    "import os\n",
    "import pandas as pd\n",
    "def print_pingcheck_results(results):\n",
    "    \n",
    "    basefilename = [os.path.basename(x[0]) for x in results]\n",
    "    \n",
    "    res = pd.DataFrame([x[1:] for x in results],\n",
    "                       columns = [\"NpingsTotal\", \"Pings Missed\", \"MissingMRZRecords\"],\n",
    "                      index = basefilename)\n",
    "    print(res.to_string())\n",
    "\n",
    "print_pingcheck_results(results)\n",
    "    "
   ]
  },
  {
   "cell_type": "code",
   "execution_count": 48,
   "metadata": {},
   "outputs": [
    {
     "name": "stdout",
     "output_type": "stream",
     "text": [
      "0000_20200310_153926_ShipName.kmall\t\t1136983622\n",
      "0001_20200310_154657_ShipName.kmall\t\t293309278\n",
      "0002_20200310_154855_ShipName.kmall\t\t1129984866\n",
      "0003_20200310_155543_ShipName.kmall\t\t268824694\n",
      "0004_20200310_155741_ShipName.kmall\t\t7344196\n",
      "0005_20200310_155746_ShipName.kmall\t\t334817416\n",
      "0006_20200310_160138_ShipName.kmall\t\t2598546508\n",
      "0007_20200310_171032_ShipName.kmall\t\t764818026\n",
      "0008_20200310_171917_ShipName.kmall\t\t8806750\n",
      "0009_20200310_172511_ShipName.kmall\t\t14662370\n",
      "0010_20200310_172521_ShipName.kmall\t\t625353594\n",
      "0011_20200310_173342_ShipName.kmall\t\t601012120\n",
      "0012_20200310_174203_ShipName.kmall\t\t2456706816\n",
      "0013_20200310_175501_ShipName.kmall\t\t861530670\n",
      "0014_20200310_185702_ShipName.kmall\t\t5363549606\n",
      "0015_20200310_191336_ShipName.kmall\t\t537617942\n",
      "0015_20200310_191336_ShipNamePCAP.kmall\t\t1349042\n",
      "0016_20200310_192559_ShipName.kmall\t\t58117768\n",
      "0016_20200310_192559_ShipName_pcap.kmall\t\t54470444\n",
      "9999.kmall\t\t599823186\n",
      "0017_20200310_193851_ShipName_PCAP.kmall\t\t247024266\n",
      "0017_20200310_193851_ShipName.kmall\t\t251726120\n",
      "0018_20200310_195655_ShipName.kmall\t\t372843640\n",
      "0020_20200310_201135_ShipName.kmall\t\t496225300\n",
      "0019_20200310_200529_ShipName.kmall\t\t529886818\n",
      "0021_20200311_130112_ShipName.kmall\t\t929249688\n",
      "0022_20200311_130815_ShipName.kmall\t\t542069678\n",
      "0023_20200311_131445_ShipName.kmall\t\t415079392\n",
      "0024_20200311_132704_ShipName.kmall\t\t188017124\n",
      "0024_20200311_132704_ShipName_PCAP.kmall\t\t174305178\n",
      "0025_20200311_134747_ShipName.kmall\t\t68944854\n",
      "0026_20200311_134851_ShipName.kmall\t\t96321180\n",
      "0027_20200311_135213_ShipName.kmall\t\t82342770\n",
      "0027_20200311_135213_ShipName_PCAP.kmall\t\t96772618\n",
      "0028_20200311_141950_ShipName.kmall\t\t294422466\n",
      "0029_20200311_142144_ShipName.kmall\t\t204960272\n",
      "0030_20200311_142259_ShipName.kmall\t\t186855076\n",
      "0031_20200311_144257_ShipName.kmall\t\t373312734\n",
      "0032_20200311_150710_ShipName.kmall\t\t995019672\n",
      "0033_20200311_151412_ShipName.kmall\t\t1277901546\n",
      "0034_20200311_152152_ShipName.kmall\t\t1758193226\n",
      "0035_20200311_152719_ShipName.kmall\t\t1749381632\n",
      "0036_20200311_153729_ShipName.kmall\t\t2060229844\n",
      "0037_20200311_154459_ShipName.kmall\t\t1192090890\n",
      "0043_20200311_174650_ShipName.kmall\t\t3129623246\n"
     ]
    }
   ],
   "source": [
    "import numpy as np\n",
    "for f in glob.glob('/Volumes/ASV_01/EM2040TankTests_20200310/sisdata/raw/Fallback_2040_40_1/*.kmall'):    \n",
    "    K = kmall.kmall(filename=f)\n",
    "    K.index_file()\n",
    "    sum = np.sum(np.array(K.Index['MessageSize']))\n",
    "    print(\"%s\\t\\t%000d\" % (os.path.basename(f),sum))"
   ]
  },
  {
   "cell_type": "code",
   "execution_count": 1,
   "metadata": {},
   "outputs": [],
   "source": [
    "import re"
   ]
  },
  {
   "cell_type": "code",
   "execution_count": 2,
   "metadata": {},
   "outputs": [
    {
     "name": "stdout",
     "output_type": "stream",
     "text": [
      "\u001b[31m0007_20190513_154724_ASVBEN.kmall\u001b[m\u001b[m\n",
      "0007_20190513_154724_ASVBEN.kmall.0z\n",
      "0007_20190513_154724_ASVBEN.kmall.1z\n",
      "\u001b[31m0007_20190513_154724_ASVBEN.kmall2.bz2\u001b[m\u001b[m\n",
      "test.kmall\n",
      "test_encodedcompressedsoundingsandimagery_p1.kmall\n",
      "test_encodedcompressedsoundingsandimagery_p4.kmall\n",
      "test_woImagery.kmall\n",
      "test_woImagery.kmall2.bz2\n",
      "test_woImagery_compressedsoundings.kmall\n",
      "test_woImagery_compressedsoundings.kmall.bz2\n",
      "test_woImagery_compressedsoundings_Native.kmall.bz2\n",
      "test_woImagery_encodedcompressedsoundings.kmall\n",
      "test_woImagery_encodedcompressedsoundings.kmall.7z\n",
      "test_woImagery_encodedcompressedsoundings.kmall.bz2\n",
      "test_woImagery_encodedcompressedsoundings_DECODED.kmall\n",
      "test_woImageryorAnav.kmall\n"
     ]
    }
   ],
   "source": [
    "!ls compressiondata/"
   ]
  },
  {
   "cell_type": "code",
   "execution_count": 80,
   "metadata": {},
   "outputs": [],
   "source": [
    "tokens = re.search('(?P<basename>.*\\.kmall)\\.(?P<level>\\d+)z',\n",
    "                   '0007_20190513_154724_ASVBEN.kmall.12z12')"
   ]
  },
  {
   "cell_type": "code",
   "execution_count": 86,
   "metadata": {},
   "outputs": [
    {
     "data": {
      "text/html": [
       "<div>\n",
       "<style scoped>\n",
       "    .dataframe tbody tr th:only-of-type {\n",
       "        vertical-align: middle;\n",
       "    }\n",
       "\n",
       "    .dataframe tbody tr th {\n",
       "        vertical-align: top;\n",
       "    }\n",
       "\n",
       "    .dataframe thead th {\n",
       "        text-align: right;\n",
       "    }\n",
       "</style>\n",
       "<table border=\"1\" class=\"dataframe\">\n",
       "  <thead>\n",
       "    <tr style=\"text-align: right;\">\n",
       "      <th></th>\n",
       "      <th>ByteOffset</th>\n",
       "      <th>MessageSize</th>\n",
       "      <th>MessageType</th>\n",
       "    </tr>\n",
       "    <tr>\n",
       "      <th>Time</th>\n",
       "      <th></th>\n",
       "      <th></th>\n",
       "      <th></th>\n",
       "    </tr>\n",
       "  </thead>\n",
       "  <tbody>\n",
       "    <tr>\n",
       "      <th>1.557762e+09</th>\n",
       "      <td>0</td>\n",
       "      <td>1054</td>\n",
       "      <td>b'#IIP'</td>\n",
       "    </tr>\n",
       "    <tr>\n",
       "      <th>1.557762e+09</th>\n",
       "      <td>1054</td>\n",
       "      <td>1332</td>\n",
       "      <td>b'#IOP'</td>\n",
       "    </tr>\n",
       "    <tr>\n",
       "      <th>1.557762e+09</th>\n",
       "      <td>2386</td>\n",
       "      <td>292</td>\n",
       "      <td>b'#SVP'</td>\n",
       "    </tr>\n",
       "    <tr>\n",
       "      <th>1.557762e+09</th>\n",
       "      <td>2678</td>\n",
       "      <td>68</td>\n",
       "      <td>b'#SVT'</td>\n",
       "    </tr>\n",
       "    <tr>\n",
       "      <th>1.557762e+09</th>\n",
       "      <td>2746</td>\n",
       "      <td>68</td>\n",
       "      <td>b'#SVT'</td>\n",
       "    </tr>\n",
       "    <tr>\n",
       "      <th>...</th>\n",
       "      <td>...</td>\n",
       "      <td>...</td>\n",
       "      <td>...</td>\n",
       "    </tr>\n",
       "    <tr>\n",
       "      <th>1.557763e+09</th>\n",
       "      <td>14595922</td>\n",
       "      <td>68</td>\n",
       "      <td>b'#SVT'</td>\n",
       "    </tr>\n",
       "    <tr>\n",
       "      <th>1.557763e+09</th>\n",
       "      <td>14595990</td>\n",
       "      <td>68</td>\n",
       "      <td>b'#SVT'</td>\n",
       "    </tr>\n",
       "    <tr>\n",
       "      <th>1.557763e+09</th>\n",
       "      <td>14596058</td>\n",
       "      <td>68</td>\n",
       "      <td>b'#SVT'</td>\n",
       "    </tr>\n",
       "    <tr>\n",
       "      <th>1.557763e+09</th>\n",
       "      <td>14596126</td>\n",
       "      <td>68</td>\n",
       "      <td>b'#SVT'</td>\n",
       "    </tr>\n",
       "    <tr>\n",
       "      <th>1.557763e+09</th>\n",
       "      <td>14596194</td>\n",
       "      <td>68</td>\n",
       "      <td>b'#SVT'</td>\n",
       "    </tr>\n",
       "  </tbody>\n",
       "</table>\n",
       "<p>3003 rows × 3 columns</p>\n",
       "</div>"
      ],
      "text/plain": [
       "              ByteOffset  MessageSize MessageType\n",
       "Time                                             \n",
       "1.557762e+09           0         1054     b'#IIP'\n",
       "1.557762e+09        1054         1332     b'#IOP'\n",
       "1.557762e+09        2386          292     b'#SVP'\n",
       "1.557762e+09        2678           68     b'#SVT'\n",
       "1.557762e+09        2746           68     b'#SVT'\n",
       "...                  ...          ...         ...\n",
       "1.557763e+09    14595922           68     b'#SVT'\n",
       "1.557763e+09    14595990           68     b'#SVT'\n",
       "1.557763e+09    14596058           68     b'#SVT'\n",
       "1.557763e+09    14596126           68     b'#SVT'\n",
       "1.557763e+09    14596194           68     b'#SVT'\n",
       "\n",
       "[3003 rows x 3 columns]"
      ]
     },
     "execution_count": 86,
     "metadata": {},
     "output_type": "execute_result"
    }
   ],
   "source": [
    "import kmall\n",
    "K=kmall.kmall('./compressiondata/0007_20190513_154724_ASVBEN.kmall.0z')\n",
    "K.index_file()\n",
    "K.Index"
   ]
  },
  {
   "cell_type": "code",
   "execution_count": 82,
   "metadata": {},
   "outputs": [
    {
     "name": "stdout",
     "output_type": "stream",
     "text": [
      "('0007_20190513_154724_ASVBEN.kmall', '12')\n"
     ]
    }
   ],
   "source": []
  },
  {
   "cell_type": "code",
   "execution_count": 83,
   "metadata": {},
   "outputs": [
    {
     "data": {
      "text/plain": [
       "'12'"
      ]
     },
     "execution_count": 83,
     "metadata": {},
     "output_type": "execute_result"
    }
   ],
   "source": []
  },
  {
   "cell_type": "code",
   "execution_count": 46,
   "metadata": {},
   "outputs": [
    {
     "data": {
      "text/plain": [
       "'0007_20190513_154724_ASVBEN.kmall.12z'"
      ]
     },
     "execution_count": 46,
     "metadata": {},
     "output_type": "execute_result"
    }
   ],
   "source": []
  },
  {
   "cell_type": "code",
   "execution_count": 7,
   "metadata": {},
   "outputs": [
    {
     "ename": "KeyError",
     "evalue": "'Time'",
     "output_type": "error",
     "traceback": [
      "\u001b[0;31m---------------------------------------------------------------------------\u001b[0m",
      "\u001b[0;31mKeyError\u001b[0m                                  Traceback (most recent call last)",
      "\u001b[0;32m/anaconda3/lib/python3.7/site-packages/pandas/core/indexes/base.py\u001b[0m in \u001b[0;36mget_loc\u001b[0;34m(self, key, method, tolerance)\u001b[0m\n\u001b[1;32m   2896\u001b[0m             \u001b[0;32mtry\u001b[0m\u001b[0;34m:\u001b[0m\u001b[0;34m\u001b[0m\u001b[0m\n\u001b[0;32m-> 2897\u001b[0;31m                 \u001b[0;32mreturn\u001b[0m \u001b[0mself\u001b[0m\u001b[0;34m.\u001b[0m\u001b[0m_engine\u001b[0m\u001b[0;34m.\u001b[0m\u001b[0mget_loc\u001b[0m\u001b[0;34m(\u001b[0m\u001b[0mkey\u001b[0m\u001b[0;34m)\u001b[0m\u001b[0;34m\u001b[0m\u001b[0m\n\u001b[0m\u001b[1;32m   2898\u001b[0m             \u001b[0;32mexcept\u001b[0m \u001b[0mKeyError\u001b[0m\u001b[0;34m:\u001b[0m\u001b[0;34m\u001b[0m\u001b[0m\n",
      "\u001b[0;32mpandas/_libs/index.pyx\u001b[0m in \u001b[0;36mpandas._libs.index.IndexEngine.get_loc\u001b[0;34m()\u001b[0m\n",
      "\u001b[0;32mpandas/_libs/index.pyx\u001b[0m in \u001b[0;36mpandas._libs.index.IndexEngine.get_loc\u001b[0;34m()\u001b[0m\n",
      "\u001b[0;32mpandas/_libs/hashtable_class_helper.pxi\u001b[0m in \u001b[0;36mpandas._libs.hashtable.PyObjectHashTable.get_item\u001b[0;34m()\u001b[0m\n",
      "\u001b[0;32mpandas/_libs/hashtable_class_helper.pxi\u001b[0m in \u001b[0;36mpandas._libs.hashtable.PyObjectHashTable.get_item\u001b[0;34m()\u001b[0m\n",
      "\u001b[0;31mKeyError\u001b[0m: 'Time'",
      "\nDuring handling of the above exception, another exception occurred:\n",
      "\u001b[0;31mKeyError\u001b[0m                                  Traceback (most recent call last)",
      "\u001b[0;32m<ipython-input-7-12308d5d0f54>\u001b[0m in \u001b[0;36m<module>\u001b[0;34m\u001b[0m\n\u001b[1;32m      1\u001b[0m \u001b[0;32mimport\u001b[0m \u001b[0mnumpy\u001b[0m \u001b[0;32mas\u001b[0m \u001b[0mnp\u001b[0m\u001b[0;34m\u001b[0m\u001b[0m\n\u001b[0;32m----> 2\u001b[0;31m \u001b[0mdt\u001b[0m \u001b[0;34m=\u001b[0m \u001b[0mnp\u001b[0m\u001b[0;34m.\u001b[0m\u001b[0mdiff\u001b[0m\u001b[0;34m(\u001b[0m\u001b[0mK\u001b[0m\u001b[0;34m.\u001b[0m\u001b[0mIndex\u001b[0m\u001b[0;34m[\u001b[0m\u001b[0;34m'Time'\u001b[0m\u001b[0;34m]\u001b[0m\u001b[0;34m)\u001b[0m\u001b[0;34m\u001b[0m\u001b[0m\n\u001b[0m",
      "\u001b[0;32m/anaconda3/lib/python3.7/site-packages/pandas/core/frame.py\u001b[0m in \u001b[0;36m__getitem__\u001b[0;34m(self, key)\u001b[0m\n\u001b[1;32m   2993\u001b[0m             \u001b[0;32mif\u001b[0m \u001b[0mself\u001b[0m\u001b[0;34m.\u001b[0m\u001b[0mcolumns\u001b[0m\u001b[0;34m.\u001b[0m\u001b[0mnlevels\u001b[0m \u001b[0;34m>\u001b[0m \u001b[0;36m1\u001b[0m\u001b[0;34m:\u001b[0m\u001b[0;34m\u001b[0m\u001b[0m\n\u001b[1;32m   2994\u001b[0m                 \u001b[0;32mreturn\u001b[0m \u001b[0mself\u001b[0m\u001b[0;34m.\u001b[0m\u001b[0m_getitem_multilevel\u001b[0m\u001b[0;34m(\u001b[0m\u001b[0mkey\u001b[0m\u001b[0;34m)\u001b[0m\u001b[0;34m\u001b[0m\u001b[0m\n\u001b[0;32m-> 2995\u001b[0;31m             \u001b[0mindexer\u001b[0m \u001b[0;34m=\u001b[0m \u001b[0mself\u001b[0m\u001b[0;34m.\u001b[0m\u001b[0mcolumns\u001b[0m\u001b[0;34m.\u001b[0m\u001b[0mget_loc\u001b[0m\u001b[0;34m(\u001b[0m\u001b[0mkey\u001b[0m\u001b[0;34m)\u001b[0m\u001b[0;34m\u001b[0m\u001b[0m\n\u001b[0m\u001b[1;32m   2996\u001b[0m             \u001b[0;32mif\u001b[0m \u001b[0mis_integer\u001b[0m\u001b[0;34m(\u001b[0m\u001b[0mindexer\u001b[0m\u001b[0;34m)\u001b[0m\u001b[0;34m:\u001b[0m\u001b[0;34m\u001b[0m\u001b[0m\n\u001b[1;32m   2997\u001b[0m                 \u001b[0mindexer\u001b[0m \u001b[0;34m=\u001b[0m \u001b[0;34m[\u001b[0m\u001b[0mindexer\u001b[0m\u001b[0;34m]\u001b[0m\u001b[0;34m\u001b[0m\u001b[0m\n",
      "\u001b[0;32m/anaconda3/lib/python3.7/site-packages/pandas/core/indexes/base.py\u001b[0m in \u001b[0;36mget_loc\u001b[0;34m(self, key, method, tolerance)\u001b[0m\n\u001b[1;32m   2897\u001b[0m                 \u001b[0;32mreturn\u001b[0m \u001b[0mself\u001b[0m\u001b[0;34m.\u001b[0m\u001b[0m_engine\u001b[0m\u001b[0;34m.\u001b[0m\u001b[0mget_loc\u001b[0m\u001b[0;34m(\u001b[0m\u001b[0mkey\u001b[0m\u001b[0;34m)\u001b[0m\u001b[0;34m\u001b[0m\u001b[0m\n\u001b[1;32m   2898\u001b[0m             \u001b[0;32mexcept\u001b[0m \u001b[0mKeyError\u001b[0m\u001b[0;34m:\u001b[0m\u001b[0;34m\u001b[0m\u001b[0m\n\u001b[0;32m-> 2899\u001b[0;31m                 \u001b[0;32mreturn\u001b[0m \u001b[0mself\u001b[0m\u001b[0;34m.\u001b[0m\u001b[0m_engine\u001b[0m\u001b[0;34m.\u001b[0m\u001b[0mget_loc\u001b[0m\u001b[0;34m(\u001b[0m\u001b[0mself\u001b[0m\u001b[0;34m.\u001b[0m\u001b[0m_maybe_cast_indexer\u001b[0m\u001b[0;34m(\u001b[0m\u001b[0mkey\u001b[0m\u001b[0;34m)\u001b[0m\u001b[0;34m)\u001b[0m\u001b[0;34m\u001b[0m\u001b[0m\n\u001b[0m\u001b[1;32m   2900\u001b[0m         \u001b[0mindexer\u001b[0m \u001b[0;34m=\u001b[0m \u001b[0mself\u001b[0m\u001b[0;34m.\u001b[0m\u001b[0mget_indexer\u001b[0m\u001b[0;34m(\u001b[0m\u001b[0;34m[\u001b[0m\u001b[0mkey\u001b[0m\u001b[0;34m]\u001b[0m\u001b[0;34m,\u001b[0m \u001b[0mmethod\u001b[0m\u001b[0;34m=\u001b[0m\u001b[0mmethod\u001b[0m\u001b[0;34m,\u001b[0m \u001b[0mtolerance\u001b[0m\u001b[0;34m=\u001b[0m\u001b[0mtolerance\u001b[0m\u001b[0;34m)\u001b[0m\u001b[0;34m\u001b[0m\u001b[0m\n\u001b[1;32m   2901\u001b[0m         \u001b[0;32mif\u001b[0m \u001b[0mindexer\u001b[0m\u001b[0;34m.\u001b[0m\u001b[0mndim\u001b[0m \u001b[0;34m>\u001b[0m \u001b[0;36m1\u001b[0m \u001b[0;32mor\u001b[0m \u001b[0mindexer\u001b[0m\u001b[0;34m.\u001b[0m\u001b[0msize\u001b[0m \u001b[0;34m>\u001b[0m \u001b[0;36m1\u001b[0m\u001b[0;34m:\u001b[0m\u001b[0;34m\u001b[0m\u001b[0m\n",
      "\u001b[0;32mpandas/_libs/index.pyx\u001b[0m in \u001b[0;36mpandas._libs.index.IndexEngine.get_loc\u001b[0;34m()\u001b[0m\n",
      "\u001b[0;32mpandas/_libs/index.pyx\u001b[0m in \u001b[0;36mpandas._libs.index.IndexEngine.get_loc\u001b[0;34m()\u001b[0m\n",
      "\u001b[0;32mpandas/_libs/hashtable_class_helper.pxi\u001b[0m in \u001b[0;36mpandas._libs.hashtable.PyObjectHashTable.get_item\u001b[0;34m()\u001b[0m\n",
      "\u001b[0;32mpandas/_libs/hashtable_class_helper.pxi\u001b[0m in \u001b[0;36mpandas._libs.hashtable.PyObjectHashTable.get_item\u001b[0;34m()\u001b[0m\n",
      "\u001b[0;31mKeyError\u001b[0m: 'Time'"
     ]
    }
   ],
   "source": [
    "import numpy as np\n",
    "dt = np.diff(K.Index['Time'])"
   ]
  },
  {
   "cell_type": "code",
   "execution_count": null,
   "metadata": {},
   "outputs": [],
   "source": []
  }
 ],
 "metadata": {
  "kernelspec": {
   "display_name": "Python 3",
   "language": "python",
   "name": "python3"
  },
  "language_info": {
   "codemirror_mode": {
    "name": "ipython",
    "version": 3
   },
   "file_extension": ".py",
   "mimetype": "text/x-python",
   "name": "python",
   "nbconvert_exporter": "python",
   "pygments_lexer": "ipython3",
   "version": "3.7.0"
  }
 },
 "nbformat": 4,
 "nbformat_minor": 4
}
